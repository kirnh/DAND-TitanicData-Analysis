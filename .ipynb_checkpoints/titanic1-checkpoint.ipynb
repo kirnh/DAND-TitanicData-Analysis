{
 "cells": [
  {
   "cell_type": "markdown",
   "metadata": {},
   "source": [
    "# Analysis of Titanic data.                                                                        "
   ]
  },
  {
   "cell_type": "markdown",
   "metadata": {},
   "source": [
    "### Purpose:\n",
    "Analysing the data to understand the factors that affected the survival rate of people on the titanic."
   ]
  },
  {
   "cell_type": "markdown",
   "metadata": {},
   "source": [
    "### Process overview:\n",
    "The Titanic data was first imported into a pandas dataframe. Minor changes to the original dataframe were made that would later support the exploration phase before the data was explored in ways where the survival rate was considered as the dependent variable with independent variables being the different groups of people on the titanic. \n",
    "\n",
    "The groups were based on either gender, class of travel or age group. Speculations were made about the reasons for the observed survival rates and data was further explored for justifications.  \n",
    "\n",
    "By analysing the descriptive statistics of the survival rate of various groups provisional statements about the characteristics of likely survivors is made, tentative justifications were provided by looking for correlations in the data. Inference is made about the relationship between survival rates of the most interesting groups encountered before conclusions are drawn as to what factors influenced the survival rate of people onboard the Titanic. "
   ]
  },
  {
   "cell_type": "markdown",
   "metadata": {},
   "source": [
    "### Code:\n",
    "The below code section of the report contains the stages of data exploration and data wrangling that was conducted to get insights into the titanic data with our purpose in mind.\n"
   ]
  },
  {
   "cell_type": "code",
   "execution_count": 2,
   "metadata": {
    "collapsed": true
   },
   "outputs": [],
   "source": [
    "import numpy as np\n",
    "import pandas as pd\n",
    "import matplotlib.pyplot as plt\n",
    "import seaborn as sns\n",
    "import math\n",
    "%matplotlib inline "
   ]
  },
  {
   "cell_type": "code",
   "execution_count": 3,
   "metadata": {
    "collapsed": true
   },
   "outputs": [],
   "source": [
    "#importing data from csv into a pandas dataframe\n",
    "titanic_df = pd.read_csv('titanic_data.csv')"
   ]
  },
  {
   "cell_type": "code",
   "execution_count": 4,
   "metadata": {
    "collapsed": false
   },
   "outputs": [
    {
     "data": {
      "text/html": [
       "<div>\n",
       "<table border=\"1\" class=\"dataframe\">\n",
       "  <thead>\n",
       "    <tr style=\"text-align: right;\">\n",
       "      <th></th>\n",
       "      <th>PassengerId</th>\n",
       "      <th>Survived</th>\n",
       "      <th>Pclass</th>\n",
       "      <th>Name</th>\n",
       "      <th>Sex</th>\n",
       "      <th>Age</th>\n",
       "      <th>SibSp</th>\n",
       "      <th>Parch</th>\n",
       "      <th>Ticket</th>\n",
       "      <th>Fare</th>\n",
       "      <th>Cabin</th>\n",
       "      <th>Embarked</th>\n",
       "    </tr>\n",
       "  </thead>\n",
       "  <tbody>\n",
       "    <tr>\n",
       "      <th>0</th>\n",
       "      <td>1</td>\n",
       "      <td>0</td>\n",
       "      <td>3</td>\n",
       "      <td>Braund, Mr. Owen Harris</td>\n",
       "      <td>male</td>\n",
       "      <td>22.0</td>\n",
       "      <td>1</td>\n",
       "      <td>0</td>\n",
       "      <td>A/5 21171</td>\n",
       "      <td>7.2500</td>\n",
       "      <td>NaN</td>\n",
       "      <td>S</td>\n",
       "    </tr>\n",
       "    <tr>\n",
       "      <th>1</th>\n",
       "      <td>2</td>\n",
       "      <td>1</td>\n",
       "      <td>1</td>\n",
       "      <td>Cumings, Mrs. John Bradley (Florence Briggs Th...</td>\n",
       "      <td>female</td>\n",
       "      <td>38.0</td>\n",
       "      <td>1</td>\n",
       "      <td>0</td>\n",
       "      <td>PC 17599</td>\n",
       "      <td>71.2833</td>\n",
       "      <td>C85</td>\n",
       "      <td>C</td>\n",
       "    </tr>\n",
       "    <tr>\n",
       "      <th>2</th>\n",
       "      <td>3</td>\n",
       "      <td>1</td>\n",
       "      <td>3</td>\n",
       "      <td>Heikkinen, Miss. Laina</td>\n",
       "      <td>female</td>\n",
       "      <td>26.0</td>\n",
       "      <td>0</td>\n",
       "      <td>0</td>\n",
       "      <td>STON/O2. 3101282</td>\n",
       "      <td>7.9250</td>\n",
       "      <td>NaN</td>\n",
       "      <td>S</td>\n",
       "    </tr>\n",
       "    <tr>\n",
       "      <th>3</th>\n",
       "      <td>4</td>\n",
       "      <td>1</td>\n",
       "      <td>1</td>\n",
       "      <td>Futrelle, Mrs. Jacques Heath (Lily May Peel)</td>\n",
       "      <td>female</td>\n",
       "      <td>35.0</td>\n",
       "      <td>1</td>\n",
       "      <td>0</td>\n",
       "      <td>113803</td>\n",
       "      <td>53.1000</td>\n",
       "      <td>C123</td>\n",
       "      <td>S</td>\n",
       "    </tr>\n",
       "    <tr>\n",
       "      <th>4</th>\n",
       "      <td>5</td>\n",
       "      <td>0</td>\n",
       "      <td>3</td>\n",
       "      <td>Allen, Mr. William Henry</td>\n",
       "      <td>male</td>\n",
       "      <td>35.0</td>\n",
       "      <td>0</td>\n",
       "      <td>0</td>\n",
       "      <td>373450</td>\n",
       "      <td>8.0500</td>\n",
       "      <td>NaN</td>\n",
       "      <td>S</td>\n",
       "    </tr>\n",
       "  </tbody>\n",
       "</table>\n",
       "</div>"
      ],
      "text/plain": [
       "   PassengerId  Survived  Pclass  \\\n",
       "0            1         0       3   \n",
       "1            2         1       1   \n",
       "2            3         1       3   \n",
       "3            4         1       1   \n",
       "4            5         0       3   \n",
       "\n",
       "                                                Name     Sex   Age  SibSp  \\\n",
       "0                            Braund, Mr. Owen Harris    male  22.0      1   \n",
       "1  Cumings, Mrs. John Bradley (Florence Briggs Th...  female  38.0      1   \n",
       "2                             Heikkinen, Miss. Laina  female  26.0      0   \n",
       "3       Futrelle, Mrs. Jacques Heath (Lily May Peel)  female  35.0      1   \n",
       "4                           Allen, Mr. William Henry    male  35.0      0   \n",
       "\n",
       "   Parch            Ticket     Fare Cabin Embarked  \n",
       "0      0         A/5 21171   7.2500   NaN        S  \n",
       "1      0          PC 17599  71.2833   C85        C  \n",
       "2      0  STON/O2. 3101282   7.9250   NaN        S  \n",
       "3      0            113803  53.1000  C123        S  \n",
       "4      0            373450   8.0500   NaN        S  "
      ]
     },
     "execution_count": 4,
     "metadata": {},
     "output_type": "execute_result"
    }
   ],
   "source": [
    "#looking into the format of our data\n",
    "titanic_df.head()"
   ]
  },
  {
   "cell_type": "code",
   "execution_count": 5,
   "metadata": {
    "collapsed": false
   },
   "outputs": [
    {
     "data": {
      "text/html": [
       "<div>\n",
       "<table border=\"1\" class=\"dataframe\">\n",
       "  <thead>\n",
       "    <tr style=\"text-align: right;\">\n",
       "      <th></th>\n",
       "      <th>PassengerId</th>\n",
       "      <th>Survived</th>\n",
       "      <th>Pclass</th>\n",
       "      <th>Name</th>\n",
       "      <th>Sex</th>\n",
       "      <th>Age</th>\n",
       "      <th>SibSp</th>\n",
       "      <th>Parch</th>\n",
       "      <th>Ticket</th>\n",
       "      <th>Fare</th>\n",
       "      <th>Cabin</th>\n",
       "      <th>Embarked</th>\n",
       "      <th>Age_group</th>\n",
       "      <th>Survival_rate</th>\n",
       "      <th>Cabin_category</th>\n",
       "      <th>Fare_group</th>\n",
       "    </tr>\n",
       "  </thead>\n",
       "  <tbody>\n",
       "    <tr>\n",
       "      <th>0</th>\n",
       "      <td>1</td>\n",
       "      <td>0</td>\n",
       "      <td>3</td>\n",
       "      <td>Braund, Mr. Owen Harris</td>\n",
       "      <td>male</td>\n",
       "      <td>22.0</td>\n",
       "      <td>1</td>\n",
       "      <td>0</td>\n",
       "      <td>A/5 21171</td>\n",
       "      <td>7.2500</td>\n",
       "      <td>NaN</td>\n",
       "      <td>S</td>\n",
       "      <td>adult</td>\n",
       "      <td>0</td>\n",
       "      <td>NaN</td>\n",
       "      <td>1</td>\n",
       "    </tr>\n",
       "    <tr>\n",
       "      <th>1</th>\n",
       "      <td>2</td>\n",
       "      <td>1</td>\n",
       "      <td>1</td>\n",
       "      <td>Cumings, Mrs. John Bradley (Florence Briggs Th...</td>\n",
       "      <td>female</td>\n",
       "      <td>38.0</td>\n",
       "      <td>1</td>\n",
       "      <td>0</td>\n",
       "      <td>PC 17599</td>\n",
       "      <td>71.2833</td>\n",
       "      <td>C85</td>\n",
       "      <td>C</td>\n",
       "      <td>adult</td>\n",
       "      <td>100</td>\n",
       "      <td>C</td>\n",
       "      <td>1</td>\n",
       "    </tr>\n",
       "    <tr>\n",
       "      <th>2</th>\n",
       "      <td>3</td>\n",
       "      <td>1</td>\n",
       "      <td>3</td>\n",
       "      <td>Heikkinen, Miss. Laina</td>\n",
       "      <td>female</td>\n",
       "      <td>26.0</td>\n",
       "      <td>0</td>\n",
       "      <td>0</td>\n",
       "      <td>STON/O2. 3101282</td>\n",
       "      <td>7.9250</td>\n",
       "      <td>NaN</td>\n",
       "      <td>S</td>\n",
       "      <td>adult</td>\n",
       "      <td>100</td>\n",
       "      <td>NaN</td>\n",
       "      <td>1</td>\n",
       "    </tr>\n",
       "    <tr>\n",
       "      <th>3</th>\n",
       "      <td>4</td>\n",
       "      <td>1</td>\n",
       "      <td>1</td>\n",
       "      <td>Futrelle, Mrs. Jacques Heath (Lily May Peel)</td>\n",
       "      <td>female</td>\n",
       "      <td>35.0</td>\n",
       "      <td>1</td>\n",
       "      <td>0</td>\n",
       "      <td>113803</td>\n",
       "      <td>53.1000</td>\n",
       "      <td>C123</td>\n",
       "      <td>S</td>\n",
       "      <td>adult</td>\n",
       "      <td>100</td>\n",
       "      <td>C</td>\n",
       "      <td>1</td>\n",
       "    </tr>\n",
       "    <tr>\n",
       "      <th>4</th>\n",
       "      <td>5</td>\n",
       "      <td>0</td>\n",
       "      <td>3</td>\n",
       "      <td>Allen, Mr. William Henry</td>\n",
       "      <td>male</td>\n",
       "      <td>35.0</td>\n",
       "      <td>0</td>\n",
       "      <td>0</td>\n",
       "      <td>373450</td>\n",
       "      <td>8.0500</td>\n",
       "      <td>NaN</td>\n",
       "      <td>S</td>\n",
       "      <td>adult</td>\n",
       "      <td>0</td>\n",
       "      <td>NaN</td>\n",
       "      <td>1</td>\n",
       "    </tr>\n",
       "  </tbody>\n",
       "</table>\n",
       "</div>"
      ],
      "text/plain": [
       "   PassengerId  Survived  Pclass  \\\n",
       "0            1         0       3   \n",
       "1            2         1       1   \n",
       "2            3         1       3   \n",
       "3            4         1       1   \n",
       "4            5         0       3   \n",
       "\n",
       "                                                Name     Sex   Age  SibSp  \\\n",
       "0                            Braund, Mr. Owen Harris    male  22.0      1   \n",
       "1  Cumings, Mrs. John Bradley (Florence Briggs Th...  female  38.0      1   \n",
       "2                             Heikkinen, Miss. Laina  female  26.0      0   \n",
       "3       Futrelle, Mrs. Jacques Heath (Lily May Peel)  female  35.0      1   \n",
       "4                           Allen, Mr. William Henry    male  35.0      0   \n",
       "\n",
       "   Parch            Ticket     Fare Cabin Embarked Age_group  Survival_rate  \\\n",
       "0      0         A/5 21171   7.2500   NaN        S     adult              0   \n",
       "1      0          PC 17599  71.2833   C85        C     adult            100   \n",
       "2      0  STON/O2. 3101282   7.9250   NaN        S     adult            100   \n",
       "3      0            113803  53.1000  C123        S     adult            100   \n",
       "4      0            373450   8.0500   NaN        S     adult              0   \n",
       "\n",
       "  Cabin_category Fare_group  \n",
       "0            NaN          1  \n",
       "1              C          1  \n",
       "2            NaN          1  \n",
       "3              C          1  \n",
       "4            NaN          1  "
      ]
     },
     "execution_count": 5,
     "metadata": {},
     "output_type": "execute_result"
    }
   ],
   "source": [
    "#creating a new column to show age group (child, teen, adult or senior)\n",
    "#to create age group data, 'Age' column entry with NaN values are dropped\n",
    "#Age_group category definitions are as follows:\n",
    "#    child: age 0 - age 12\n",
    "#    teen: age 13 - age 19\n",
    "#    adult: age 20 - age 59\n",
    "#    senior: age 60 above (considering 120 as the maximum)\n",
    "\n",
    "titanic_df['Age_group'] = pd.cut(titanic_df['Age'].dropna(), bins = [0,13,19,60,120], \\\n",
    "                                 labels = ['child', 'teen', 'adult', 'senior'])\n",
    "\n",
    "#creating a new column called Survival_rate (values of 100 for suvivors and 0 for non survivors)\n",
    "titanic_df['Survival_rate'] = titanic_df['Survived'] * 100\n",
    "\n",
    "#function that returns the first letter of the cabin number as the cabin category (where more than one cabin \n",
    "#numbers exist, the first one is considered)\n",
    "def cabin_category(cabins):\n",
    "    splits = cabins.split()\n",
    "    for i in splits:\n",
    "        if len(i) > 1:\n",
    "            return i[0]\n",
    "            break\n",
    "            \n",
    "#creating a new column in titanic_df called Cabin_category (column definition can be understood by looking into\n",
    "#cabin_category function description above.)\n",
    "titanic_df['Cabin_category'] = titanic_df['Cabin'].dropna().apply(cabin_category) \n",
    "\n",
    "#creating a new column in titanic_df called Fare_group that divides passengers into Fare groups 1,2 and 3 of \n",
    "# Fares between 0-200, 200-400 and 400-600\n",
    "titanic_df['Fare_group'] = pd.cut(titanic_df['Fare'], bins = [0, 200, 400, 600], \\\n",
    "                                 labels = ['1', '2', '3'])\n",
    "\n",
    "titanic_df.head()"
   ]
  },
  {
   "cell_type": "code",
   "execution_count": 6,
   "metadata": {
    "collapsed": false
   },
   "outputs": [],
   "source": [
    "#FUNCTIONS\n",
    "    \n",
    "#function that returns the percentage of people survived in a group\n",
    "def percent_survived(df):\n",
    "    return df['Survival_rate'].mean()\n",
    "    \n",
    "#function that returns the percent of females in each group\n",
    "def percent_females(df):\n",
    "    return df.groupby('Sex').get_group('female')['PassengerId'].count() * 100 / df['PassengerId'].count()\n",
    "\n",
    "# function that groups titanic_df dataframe by keywords, and returns the mean survival rate of each group and plots \n",
    "# it into a bar graph for ease of perception.\n",
    "def describe_titanic_data_by(keywords):\n",
    "    grouped_data = titanic_df.groupby(keywords)\n",
    "    x = 'Mean survival rate in each group of {}\\n'.format(keywords)\n",
    "    print x\n",
    "    print grouped_data['Survival_rate'].mean()\n",
    "    plot = grouped_data['Survival_rate'].mean().plot(legend = True, kind = 'bar', title = x)\n",
    "    plot.set(ylabel = 'Survival rate')\n",
    "    plt.show()\n",
    "\n",
    "    \n",
    "\n",
    "    "
   ]
  },
  {
   "cell_type": "markdown",
   "metadata": {},
   "source": [
    "### Descriptive statistics:\n",
    "\n",
    "#### 1.\n",
    "Titanic data is grouped according to various variables like gender, class and age group and their survival rates are plotted for analysis."
   ]
  },
  {
   "cell_type": "code",
   "execution_count": 7,
   "metadata": {
    "collapsed": false,
    "scrolled": false
   },
   "outputs": [
    {
     "name": "stdout",
     "output_type": "stream",
     "text": [
      "Mean survival rate in each group of Sex\n",
      "\n",
      "Sex\n",
      "female    74.203822\n",
      "male      18.890815\n",
      "Name: Survival_rate, dtype: float64\n"
     ]
    },
    {
     "data": {
      "image/png": "[encoded data removed]",
      "text/plain": [
       "<matplotlib.figure.Figure at 0x7fae5d24e9d0>"
      ]
     },
     "metadata": {},
     "output_type": "display_data"
    }
   ],
   "source": [
    "describe_titanic_data_by('Sex')"
   ]
  },
  {
   "cell_type": "markdown",
   "metadata": {},
   "source": [
    "This shows that females survived the Titanic tragedy better than the males."
   ]
  },
  {
   "cell_type": "code",
   "execution_count": 8,
   "metadata": {
    "collapsed": false,
    "scrolled": false
   },
   "outputs": [
    {
     "name": "stdout",
     "output_type": "stream",
     "text": [
      "Mean survival rate in each group of Age_group\n",
      "\n",
      "Age_group\n",
      "child     59.154930\n",
      "teen      39.784946\n",
      "adult     39.015152\n",
      "senior    22.727273\n",
      "Name: Survival_rate, dtype: float64\n"
     ]
    },
    {
     "data": {
      "image/png": "[encoded data removed]",
      "text/plain": [
       "<matplotlib.figure.Figure at 0x7fae5ac40210>"
      ]
     },
     "metadata": {},
     "output_type": "display_data"
    }
   ],
   "source": [
    "describe_titanic_data_by('Age_group')"
   ]
  },
  {
   "cell_type": "markdown",
   "metadata": {},
   "source": [
    "This says that the children onboard Titanic who were of ages less than 13 survived its sinking better than the other age groups."
   ]
  },
  {
   "cell_type": "code",
   "execution_count": 9,
   "metadata": {
    "collapsed": false,
    "scrolled": false
   },
   "outputs": [
    {
     "name": "stdout",
     "output_type": "stream",
     "text": [
      "Mean survival rate in each group of Pclass\n",
      "\n",
      "Pclass\n",
      "1    62.962963\n",
      "2    47.282609\n",
      "3    24.236253\n",
      "Name: Survival_rate, dtype: float64\n"
     ]
    },
    {
     "data": {
      "image/png": "[encoded data removed]",
      "text/plain": [
       "<matplotlib.figure.Figure at 0x7fae5a74d1d0>"
      ]
     },
     "metadata": {},
     "output_type": "display_data"
    }
   ],
   "source": [
    "describe_titanic_data_by('Pclass')"
   ]
  },
  {
   "cell_type": "markdown",
   "metadata": {},
   "source": [
    "We can say from the above plot that the first class travellers survived better than the second class travellers who inturn survived better than the third class travellers onboard Titanic during its sinking."
   ]
  },
  {
   "cell_type": "markdown",
   "metadata": {},
   "source": [
    "#### Highlights:\n",
    "Our data highlights that females had a better survival rate than males, and also that children survived better than the other age groups. This is not very surprising due to the fact that it is usually morally right to prioritize lives of women and children in a situation like the Titanic sinking. The higher survival rates of women and children onboard the Titanic were thus maybe due to them being put on life boats more than the their counterpart groups. \n"
   ]
  },
  {
   "cell_type": "markdown",
   "metadata": {},
   "source": [
    "#### 2.\n",
    "The difference in survival rates between different classes of people is interesting and requires more investigation to try to understand the reasons behind different survival rates of different classes. The difference in survival rates can be due to any number of reasons. Some of the interesting questions that can be answered with the data we have are as follows, \n",
    "\n",
    "    -Since we have data that says women survived better than males, could the difference in amount of women\n",
    "     have affected the survival rates between each classes? \n",
    "    -Were wealthy people put on life boats first?\n",
    "    -Did the cabin categories have any influence on survival rates?"
   ]
  },
  {
   "cell_type": "code",
   "execution_count": 10,
   "metadata": {
    "collapsed": false
   },
   "outputs": [
    {
     "data": {
      "image/png": "[encoded data removed]",
      "text/plain": [
       "<matplotlib.figure.Figure at 0x7fae5a6a04d0>"
      ]
     },
     "metadata": {},
     "output_type": "display_data"
    }
   ],
   "source": [
    "#plotting percentage of females in each class\n",
    "plot = titanic_df.groupby('Pclass').apply(percent_females).plot(kind = 'bar', title = 'Percentage of females in each Pclass')\n",
    "plot.set(ylabel = 'Survival rate')\n",
    "plt.show()\n"
   ]
  },
  {
   "cell_type": "markdown",
   "metadata": {},
   "source": [
    "This shows that percentage of females were more in first class than in second class than in third class. This graph correlates to the Mean survival rate in each group of Pclass graph. "
   ]
  },
  {
   "cell_type": "code",
   "execution_count": 11,
   "metadata": {
    "collapsed": false
   },
   "outputs": [
    {
     "name": "stdout",
     "output_type": "stream",
     "text": [
      "Fare_groups:\n",
      "\n",
      "1: Fare of 0 to 200\n",
      "\n",
      "2: Fare of 200 to 400\n",
      "\n",
      "3: Fare of 400 to 600\n",
      "\n"
     ]
    },
    {
     "data": {
      "image/png": "[encoded data removed]",
      "text/plain": [
       "<matplotlib.figure.Figure at 0x7fae5a575210>"
      ]
     },
     "metadata": {},
     "output_type": "display_data"
    }
   ],
   "source": [
    "#survival rate of each Fare_group\n",
    "print 'Fare_groups:\\n'\n",
    "print '1: Fare of 0 to 200\\n'\n",
    "print '2: Fare of 200 to 400\\n'\n",
    "print '3: Fare of 400 to 600\\n'\n",
    "plot = titanic_df.groupby('Fare_group').apply(percent_survived).plot(kind = 'bar', title = 'Survival rate of each Fare_group')\n",
    "plot.set(ylabel = 'Survival rate')\n",
    "plt.show()"
   ]
  },
  {
   "cell_type": "markdown",
   "metadata": {},
   "source": [
    "This plot says that the people who paid more to travel on the Titanic survived its sinking better. If we can define wealth as the ability to buy a higher priced Titanic ticket, we can say that wealthy had a higher survival rates onboard the Titanic."
   ]
  },
  {
   "cell_type": "code",
   "execution_count": 12,
   "metadata": {
    "collapsed": false
   },
   "outputs": [
    {
     "data": {
      "image/png": "[encoded data removed]",
      "text/plain": [
       "<matplotlib.figure.Figure at 0x7fae5a4dc650>"
      ]
     },
     "metadata": {},
     "output_type": "display_data"
    }
   ],
   "source": [
    "plot = titanic_df.groupby('Cabin_category').apply(percent_survived).plot(kind = 'bar', title = 'Survival rate of each Cabin_category')\n",
    "plot.set(ylabel = 'Survival rate')\n",
    "plt.show()"
   ]
  },
  {
   "cell_type": "markdown",
   "metadata": {},
   "source": [
    "This shows that the survival rates of cabin categories B, D, E and F are fairly high compared to other categories, it can also be seen that the G category cabins have the least survival rate. "
   ]
  },
  {
   "cell_type": "markdown",
   "metadata": {},
   "source": [
    "We now look into the share of cabin categories in each of our 1st, 2nd and 3rd class groups to see if there's any correlation between the percentage of each cabin categories in each class and the difference in survival rates between each class."
   ]
  },
  {
   "cell_type": "code",
   "execution_count": 73,
   "metadata": {
    "collapsed": false
   },
   "outputs": [
    {
     "data": {
      "image/png": "[encoded data removed]",
      "text/plain": [
       "<matplotlib.figure.Figure at 0x7fae5a4b3650>"
      ]
     },
     "metadata": {},
     "output_type": "display_data"
    },
    {
     "data": {
      "image/png": "[encoded data removed]",
      "text/plain": [
       "<matplotlib.figure.Figure at 0x7fae5a4181d0>"
      ]
     },
     "metadata": {},
     "output_type": "display_data"
    },
    {
     "data": {
      "image/png": "[encoded data removed]",
      "text/plain": [
       "<matplotlib.figure.Figure at 0x7fae5a106450>"
      ]
     },
     "metadata": {},
     "output_type": "display_data"
    }
   ],
   "source": [
    "passengers_by_class = titanic_df.groupby('Pclass')\n",
    "def percent_cabins(grouped_data, group):\n",
    "    series = grouped_data.get_group(group)['Cabin_category'].dropna().value_counts()\n",
    "    return series * 100 / series.sum()\n",
    "\n",
    "def make_autopct(values):\n",
    "  def my_autopct(pct):\n",
    "      total = sum(values)\n",
    "      val = int(round(pct*total/100.0))\n",
    "      return '{p:.2f}%  ({v:d})'.format(p=pct,v=val)\n",
    "  return my_autopct\n",
    "\n",
    "df = percent_cabins(passengers_by_class, 1)\n",
    "labels = ['C', 'B', 'D', 'E', 'A']\n",
    "colors = ['ghostwhite', 'lavender', 'powderblue', 'lightsteelblue', 'lightslategrey']\n",
    "plt.pie(df, colors = colors, labels = labels, autopct = make_autopct(df) )\n",
    "plt.title('Percentage share of Cabin_categories in first class')\n",
    "plt.show()\n",
    "\n",
    "df = percent_cabins(passengers_by_class, 2)\n",
    "labels = ['F', 'E', 'D']\n",
    "colors = ['ghostwhite', 'lavender', 'powderblue', 'lightsteelblue', 'lightslategrey']\n",
    "plt.pie(df, colors = colors, labels = labels, autopct = make_autopct(df) )\n",
    "plt.title('Percentage share of Cabin_categories in second class')\n",
    "plt.show()\n",
    "\n",
    "df = percent_cabins(passengers_by_class, 3)\n",
    "labels = ['G', 'E', 'F']\n",
    "colors = ['lightsteelblue', 'lavender', 'ghostwhite', 'powderblue', 'lightslategrey']\n",
    "plt.pie(df, colors = colors, labels = labels, autopct = make_autopct(df) )\n",
    "plt.title('Percentage share of Cabin_categories in third class')\n",
    "plt.show()\n",
    "\n"
   ]
  },
  {
   "cell_type": "markdown",
   "metadata": {},
   "source": [
    "The above pie for the 3rd class says that the majority of them were in cabin category G, this cabin category also has the lowest survival rate as we have already seen. This may be the reason for low survival rate of the 3rd class people.\n",
    "\n",
    "However if we look at the pie chart for 1st and 2nd class, much cannot be told about the difference in survival rates witnessed. It infact implies that the second class would have survived better than the first class. This contradiction and ambiguity in our pie charts are maybe due to the missing information about some cabin numbers in our dataset.\n",
    "\n",
    "So, it is better to drop our arguement that there is a relationship between survival rates and cabin categories."
   ]
  },
  {
   "cell_type": "markdown",
   "metadata": {},
   "source": [
    "#### Highlights:\n",
    "The data we have shows correlation between the percentage of women in each class and the survival rates of each class. Also, the survival rate of wealthy were higher. \n",
    "\n",
    "Hence, we can only tentatively say from the data we have and the correlations we found that the first class survived better than the second class who survived better than third class due to the following reasons,\n",
    "\n",
    "    -Percentage of females were more in first class than in second class than in third class. And that females\n",
    "     survived better than males.\n",
    "    -People were more wealthy in first class than in second class than in third class. And that wealthy \n",
    "     survived better."
   ]
  },
  {
   "cell_type": "markdown",
   "metadata": {},
   "source": [
    "### Conclusion:\n",
    "\n",
    "The Titanic hosted 2224 passengers out of which more than 1500 died when it sank. By analysing the data of 891 passengers we had, we initially found that female survival rates were more than the male survival rates. The argument to this statistics can be that the female lives were prioritized over male lives. This can only be justified morally. The same argument about age group suggests that children lives would have been upheld during this situation. It infact is observed that this holds true about our data set, that children had higher survival rates than the rest. Our data also reveals that first class passengers' survival rates were higher than the rest. It was also found that first class contained higher percentage of women. Also, the wealthy seemed to have a higher survial rate maybe because of them being put on life boats first. These correlations can tentatively justify for the fact that first class passengers onboard the Titanic had higher survival rates. \n",
    "\n",
    "These statements about the survival rates and the factors that influenced them are obtained through analysis of our 891 datapoints out of the 2224 population data points. Without any details about the sampling method involved, it is assumed that these 891 data points have been drawn randmly from the population throughout our analysis. "
   ]
  }
 ],
 "metadata": {
  "kernelspec": {
   "display_name": "Python [Root]",
   "language": "python",
   "name": "Python [Root]"
  },
  "language_info": {
   "codemirror_mode": {
    "name": "ipython",
    "version": 2
   },
   "file_extension": ".py",
   "mimetype": "text/x-python",
   "name": "python",
   "nbconvert_exporter": "python",
   "pygments_lexer": "ipython2",
   "version": "2.7.12"
  }
 },
 "nbformat": 4,
 "nbformat_minor": 0
}
