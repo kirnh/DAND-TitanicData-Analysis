{
 "cells": [
  {
   "cell_type": "code",
   "execution_count": 1,
   "metadata": {
    "collapsed": true
   },
   "outputs": [],
   "source": [
    "import numpy as np\n",
    "import pandas as pd\n",
    "import matplotlib.pyplot as plt\n",
    "import seaborn as sns"
   ]
  },
  {
   "cell_type": "code",
   "execution_count": 2,
   "metadata": {
    "collapsed": false
   },
   "outputs": [
    {
     "data": {
      "text/html": [
       "<div>\n",
       "<table border=\"1\" class=\"dataframe\">\n",
       "  <thead>\n",
       "    <tr style=\"text-align: right;\">\n",
       "      <th></th>\n",
       "      <th>PassengerId</th>\n",
       "      <th>Survived</th>\n",
       "      <th>Pclass</th>\n",
       "      <th>Name</th>\n",
       "      <th>Sex</th>\n",
       "      <th>Age</th>\n",
       "      <th>SibSp</th>\n",
       "      <th>Parch</th>\n",
       "      <th>Ticket</th>\n",
       "      <th>Fare</th>\n",
       "      <th>Cabin</th>\n",
       "      <th>Embarked</th>\n",
       "    </tr>\n",
       "  </thead>\n",
       "  <tbody>\n",
       "    <tr>\n",
       "      <th>0</th>\n",
       "      <td>1</td>\n",
       "      <td>0</td>\n",
       "      <td>3</td>\n",
       "      <td>Braund, Mr. Owen Harris</td>\n",
       "      <td>male</td>\n",
       "      <td>22.0</td>\n",
       "      <td>1</td>\n",
       "      <td>0</td>\n",
       "      <td>A/5 21171</td>\n",
       "      <td>7.2500</td>\n",
       "      <td>NaN</td>\n",
       "      <td>S</td>\n",
       "    </tr>\n",
       "    <tr>\n",
       "      <th>1</th>\n",
       "      <td>2</td>\n",
       "      <td>1</td>\n",
       "      <td>1</td>\n",
       "      <td>Cumings, Mrs. John Bradley (Florence Briggs Th...</td>\n",
       "      <td>female</td>\n",
       "      <td>38.0</td>\n",
       "      <td>1</td>\n",
       "      <td>0</td>\n",
       "      <td>PC 17599</td>\n",
       "      <td>71.2833</td>\n",
       "      <td>C85</td>\n",
       "      <td>C</td>\n",
       "    </tr>\n",
       "    <tr>\n",
       "      <th>2</th>\n",
       "      <td>3</td>\n",
       "      <td>1</td>\n",
       "      <td>3</td>\n",
       "      <td>Heikkinen, Miss. Laina</td>\n",
       "      <td>female</td>\n",
       "      <td>26.0</td>\n",
       "      <td>0</td>\n",
       "      <td>0</td>\n",
       "      <td>STON/O2. 3101282</td>\n",
       "      <td>7.9250</td>\n",
       "      <td>NaN</td>\n",
       "      <td>S</td>\n",
       "    </tr>\n",
       "    <tr>\n",
       "      <th>3</th>\n",
       "      <td>4</td>\n",
       "      <td>1</td>\n",
       "      <td>1</td>\n",
       "      <td>Futrelle, Mrs. Jacques Heath (Lily May Peel)</td>\n",
       "      <td>female</td>\n",
       "      <td>35.0</td>\n",
       "      <td>1</td>\n",
       "      <td>0</td>\n",
       "      <td>113803</td>\n",
       "      <td>53.1000</td>\n",
       "      <td>C123</td>\n",
       "      <td>S</td>\n",
       "    </tr>\n",
       "    <tr>\n",
       "      <th>4</th>\n",
       "      <td>5</td>\n",
       "      <td>0</td>\n",
       "      <td>3</td>\n",
       "      <td>Allen, Mr. William Henry</td>\n",
       "      <td>male</td>\n",
       "      <td>35.0</td>\n",
       "      <td>0</td>\n",
       "      <td>0</td>\n",
       "      <td>373450</td>\n",
       "      <td>8.0500</td>\n",
       "      <td>NaN</td>\n",
       "      <td>S</td>\n",
       "    </tr>\n",
       "  </tbody>\n",
       "</table>\n",
       "</div>"
      ],
      "text/plain": [
       "   PassengerId  Survived  Pclass  \\\n",
       "0            1         0       3   \n",
       "1            2         1       1   \n",
       "2            3         1       3   \n",
       "3            4         1       1   \n",
       "4            5         0       3   \n",
       "\n",
       "                                                Name     Sex   Age  SibSp  \\\n",
       "0                            Braund, Mr. Owen Harris    male  22.0      1   \n",
       "1  Cumings, Mrs. John Bradley (Florence Briggs Th...  female  38.0      1   \n",
       "2                             Heikkinen, Miss. Laina  female  26.0      0   \n",
       "3       Futrelle, Mrs. Jacques Heath (Lily May Peel)  female  35.0      1   \n",
       "4                           Allen, Mr. William Henry    male  35.0      0   \n",
       "\n",
       "   Parch            Ticket     Fare Cabin Embarked  \n",
       "0      0         A/5 21171   7.2500   NaN        S  \n",
       "1      0          PC 17599  71.2833   C85        C  \n",
       "2      0  STON/O2. 3101282   7.9250   NaN        S  \n",
       "3      0            113803  53.1000  C123        S  \n",
       "4      0            373450   8.0500   NaN        S  "
      ]
     },
     "execution_count": 2,
     "metadata": {},
     "output_type": "execute_result"
    }
   ],
   "source": [
    "titanic_df = pd.read_csv('titanic_data.csv')\n",
    "titanic_df.head()"
   ]
  },
  {
   "cell_type": "code",
   "execution_count": 3,
   "metadata": {
    "collapsed": false,
    "scrolled": false
   },
   "outputs": [
    {
     "name": "stderr",
     "output_type": "stream",
     "text": [
      "/home/kh/anaconda2/lib/python2.7/site-packages/numpy/lib/function_base.py:3834: RuntimeWarning: Invalid value encountered in percentile\n",
      "  RuntimeWarning)\n"
     ]
    },
    {
     "data": {
      "text/html": [
       "<div>\n",
       "<table border=\"1\" class=\"dataframe\">\n",
       "  <thead>\n",
       "    <tr style=\"text-align: right;\">\n",
       "      <th></th>\n",
       "      <th>PassengerId</th>\n",
       "      <th>Survived</th>\n",
       "      <th>Pclass</th>\n",
       "      <th>Age</th>\n",
       "      <th>SibSp</th>\n",
       "      <th>Parch</th>\n",
       "      <th>Fare</th>\n",
       "    </tr>\n",
       "  </thead>\n",
       "  <tbody>\n",
       "    <tr>\n",
       "      <th>count</th>\n",
       "      <td>891.000000</td>\n",
       "      <td>891.000000</td>\n",
       "      <td>891.000000</td>\n",
       "      <td>714.000000</td>\n",
       "      <td>891.000000</td>\n",
       "      <td>891.000000</td>\n",
       "      <td>891.000000</td>\n",
       "    </tr>\n",
       "    <tr>\n",
       "      <th>mean</th>\n",
       "      <td>446.000000</td>\n",
       "      <td>0.383838</td>\n",
       "      <td>2.308642</td>\n",
       "      <td>29.699118</td>\n",
       "      <td>0.523008</td>\n",
       "      <td>0.381594</td>\n",
       "      <td>32.204208</td>\n",
       "    </tr>\n",
       "    <tr>\n",
       "      <th>std</th>\n",
       "      <td>257.353842</td>\n",
       "      <td>0.486592</td>\n",
       "      <td>0.836071</td>\n",
       "      <td>14.526497</td>\n",
       "      <td>1.102743</td>\n",
       "      <td>0.806057</td>\n",
       "      <td>49.693429</td>\n",
       "    </tr>\n",
       "    <tr>\n",
       "      <th>min</th>\n",
       "      <td>1.000000</td>\n",
       "      <td>0.000000</td>\n",
       "      <td>1.000000</td>\n",
       "      <td>0.420000</td>\n",
       "      <td>0.000000</td>\n",
       "      <td>0.000000</td>\n",
       "      <td>0.000000</td>\n",
       "    </tr>\n",
       "    <tr>\n",
       "      <th>25%</th>\n",
       "      <td>223.500000</td>\n",
       "      <td>0.000000</td>\n",
       "      <td>2.000000</td>\n",
       "      <td>NaN</td>\n",
       "      <td>0.000000</td>\n",
       "      <td>0.000000</td>\n",
       "      <td>7.910400</td>\n",
       "    </tr>\n",
       "    <tr>\n",
       "      <th>50%</th>\n",
       "      <td>446.000000</td>\n",
       "      <td>0.000000</td>\n",
       "      <td>3.000000</td>\n",
       "      <td>NaN</td>\n",
       "      <td>0.000000</td>\n",
       "      <td>0.000000</td>\n",
       "      <td>14.454200</td>\n",
       "    </tr>\n",
       "    <tr>\n",
       "      <th>75%</th>\n",
       "      <td>668.500000</td>\n",
       "      <td>1.000000</td>\n",
       "      <td>3.000000</td>\n",
       "      <td>NaN</td>\n",
       "      <td>1.000000</td>\n",
       "      <td>0.000000</td>\n",
       "      <td>31.000000</td>\n",
       "    </tr>\n",
       "    <tr>\n",
       "      <th>max</th>\n",
       "      <td>891.000000</td>\n",
       "      <td>1.000000</td>\n",
       "      <td>3.000000</td>\n",
       "      <td>80.000000</td>\n",
       "      <td>8.000000</td>\n",
       "      <td>6.000000</td>\n",
       "      <td>512.329200</td>\n",
       "    </tr>\n",
       "  </tbody>\n",
       "</table>\n",
       "</div>"
      ],
      "text/plain": [
       "       PassengerId    Survived      Pclass         Age       SibSp  \\\n",
       "count   891.000000  891.000000  891.000000  714.000000  891.000000   \n",
       "mean    446.000000    0.383838    2.308642   29.699118    0.523008   \n",
       "std     257.353842    0.486592    0.836071   14.526497    1.102743   \n",
       "min       1.000000    0.000000    1.000000    0.420000    0.000000   \n",
       "25%     223.500000    0.000000    2.000000         NaN    0.000000   \n",
       "50%     446.000000    0.000000    3.000000         NaN    0.000000   \n",
       "75%     668.500000    1.000000    3.000000         NaN    1.000000   \n",
       "max     891.000000    1.000000    3.000000   80.000000    8.000000   \n",
       "\n",
       "            Parch        Fare  \n",
       "count  891.000000  891.000000  \n",
       "mean     0.381594   32.204208  \n",
       "std      0.806057   49.693429  \n",
       "min      0.000000    0.000000  \n",
       "25%      0.000000    7.910400  \n",
       "50%      0.000000   14.454200  \n",
       "75%      0.000000   31.000000  \n",
       "max      6.000000  512.329200  "
      ]
     },
     "execution_count": 3,
     "metadata": {},
     "output_type": "execute_result"
    }
   ],
   "source": [
    "titanic_df.describe()"
   ]
  },
  {
   "cell_type": "code",
   "execution_count": 24,
   "metadata": {
    "collapsed": false
   },
   "outputs": [],
   "source": [
    "#adding a new column named Relatives\n",
    "titanic_df['Relatives'] = titanic_df['SibSp'] + titanic_df['Parch']"
   ]
  },
  {
   "cell_type": "code",
   "execution_count": 26,
   "metadata": {
    "collapsed": false
   },
   "outputs": [],
   "source": [
    "#function that returns the percentage of females in a dataframe group\n",
    "def percent_females(df):\n",
    "    f = 0 \n",
    "    for i in df['Sex']:\n",
    "        if i == 'female':\n",
    "            f += 1\n",
    "    return f * 100.0 / len(df['Sex'])\n",
    "\n",
    "#function that returns percentage of people survived in a dataframe group\n",
    "def percent_survived(df):\n",
    "    return df['Survived'].sum() * 100.0 / df['Survived'].count()\n",
    "\n",
    "#function that returns the overall percentage of people in a dataframe group\n",
    "def percent_people(df):\n",
    "    return df['PassengerId'].count() * 100.0 / 891\n",
    "\n",
    "\n"
   ]
  },
  {
   "cell_type": "code",
   "execution_count": 27,
   "metadata": {
    "collapsed": false
   },
   "outputs": [
    {
     "name": "stdout",
     "output_type": "stream",
     "text": [
      "Relatives\n",
      "0     60.269360\n",
      "1     18.069585\n",
      "2     11.447811\n",
      "3      3.254770\n",
      "4      1.683502\n",
      "5      2.469136\n",
      "6      1.346801\n",
      "7      0.673401\n",
      "10     0.785634\n",
      "Name: PassengerId, dtype: float64\n"
     ]
    }
   ],
   "source": [
    "#grouping by number of relatives \n",
    "passengers_by_number_of_relatives = titanic_df.groupby('Relatives')\n",
    "print percent_people(passengers_by_number_of_relatives)"
   ]
  },
  {
   "cell_type": "code",
   "execution_count": 28,
   "metadata": {
    "collapsed": false,
    "scrolled": true
   },
   "outputs": [],
   "source": [
    "\n",
    "#grouping people by class\n",
    "passengers_by_class = titanic_df.groupby('Pclass')\n",
    "percent_people(passengers_by_class).plot(kind = 'pie')\n",
    "plt.show()"
   ]
  },
  {
   "cell_type": "code",
   "execution_count": 34,
   "metadata": {
    "collapsed": false,
    "scrolled": false
   },
   "outputs": [
    {
     "name": "stdout",
     "output_type": "stream",
     "text": [
      "Pclass\n",
      "1    62.962963\n",
      "2    47.282609\n",
      "3    24.236253\n",
      "Name: Survived, dtype: float64\n",
      "Pclass\n",
      "1    24.242424\n",
      "2    20.650954\n",
      "3    55.106622\n",
      "Name: PassengerId, dtype: float64\n",
      "Pclass\n",
      "1    43.518519\n",
      "2    41.304348\n",
      "3    29.327902\n",
      "dtype: float64\n"
     ]
    }
   ],
   "source": [
    "print percent_survived(passengers_by_class)\n",
    "percent_survived(passengers_by_class).plot()\n",
    "percent_people(passengers_by_class).plot()\n",
    "passengers_by_class.apply(percent_females).plot()\n",
    "plt.show()\n",
    "print percent_people(passengers_by_class)\n",
    "print passengers_by_class.apply(percent_females)"
   ]
  },
  {
   "cell_type": "code",
   "execution_count": 12,
   "metadata": {
    "collapsed": false
   },
   "outputs": [],
   "source": [
    "#pie chart that shows division of number of people by number of relatives\n",
    "passengers_by_number_of_relatives.apply(percent_people).plot(kind = 'pie')\n",
    "plt.show()"
   ]
  },
  {
   "cell_type": "code",
   "execution_count": 14,
   "metadata": {
    "collapsed": false
   },
   "outputs": [
    {
     "name": "stdout",
     "output_type": "stream",
     "text": [
      "Axes(0.125,0.1;0.775x0.8)\n",
      "Axes(0.125,0.1;0.775x0.8)\n"
     ]
    }
   ],
   "source": [
    "#plot that shows the varying of percent females and percent survivors grouped by number of relatives\n",
    "passengers_by_class\n",
    "passengers_by_number_of_relatives.apply(percent_survived).plot()\n",
    "passengers_by_number_of_relatives.apply(percent_females).plot()\n",
    "plt.show()"
   ]
  },
  {
   "cell_type": "code",
   "execution_count": 173,
   "metadata": {
    "collapsed": false
   },
   "outputs": [
    {
     "data": {
      "text/plain": [
       "Relatives\n",
       "0     2.400372\n",
       "1     1.919255\n",
       "2     2.225490\n",
       "3     2.068966\n",
       "4     2.666667\n",
       "5     2.590909\n",
       "6     3.000000\n",
       "7     3.000000\n",
       "10    3.000000\n",
       "Name: Pclass, dtype: float64"
      ]
     },
     "execution_count": 173,
     "metadata": {},
     "output_type": "execute_result"
    }
   ],
   "source": [
    "passengers_by_number_of_relatives['Pclass'].mean()"
   ]
  },
  {
   "cell_type": "code",
   "execution_count": 22,
   "metadata": {
    "collapsed": false
   },
   "outputs": [
    {
     "name": "stdout",
     "output_type": "stream",
     "text": [
      "       PassengerId  Survived  Pclass  Name  Sex  SibSp  Parch  Ticket  Fare  \\\n",
      "Age                                                                           \n",
      "0.42             1         1       1     1    1      1      1       1     1   \n",
      "0.67             1         1       1     1    1      1      1       1     1   \n",
      "0.75             2         2       2     2    2      2      2       2     2   \n",
      "0.83             2         2       2     2    2      2      2       2     2   \n",
      "0.92             1         1       1     1    1      1      1       1     1   \n",
      "1.00             7         7       7     7    7      7      7       7     7   \n",
      "2.00            10        10      10    10   10     10     10      10    10   \n",
      "3.00             6         6       6     6    6      6      6       6     6   \n",
      "4.00            10        10      10    10   10     10     10      10    10   \n",
      "5.00             4         4       4     4    4      4      4       4     4   \n",
      "6.00             3         3       3     3    3      3      3       3     3   \n",
      "7.00             3         3       3     3    3      3      3       3     3   \n",
      "8.00             4         4       4     4    4      4      4       4     4   \n",
      "9.00             8         8       8     8    8      8      8       8     8   \n",
      "10.00            2         2       2     2    2      2      2       2     2   \n",
      "11.00            4         4       4     4    4      4      4       4     4   \n",
      "12.00            1         1       1     1    1      1      1       1     1   \n",
      "13.00            2         2       2     2    2      2      2       2     2   \n",
      "14.00            6         6       6     6    6      6      6       6     6   \n",
      "14.50            1         1       1     1    1      1      1       1     1   \n",
      "15.00            5         5       5     5    5      5      5       5     5   \n",
      "16.00           17        17      17    17   17     17     17      17    17   \n",
      "17.00           13        13      13    13   13     13     13      13    13   \n",
      "18.00           26        26      26    26   26     26     26      26    26   \n",
      "19.00           25        25      25    25   25     25     25      25    25   \n",
      "20.00           15        15      15    15   15     15     15      15    15   \n",
      "20.50            1         1       1     1    1      1      1       1     1   \n",
      "21.00           24        24      24    24   24     24     24      24    24   \n",
      "22.00           27        27      27    27   27     27     27      27    27   \n",
      "23.00           15        15      15    15   15     15     15      15    15   \n",
      "...            ...       ...     ...   ...  ...    ...    ...     ...   ...   \n",
      "44.00            9         9       9     9    9      9      9       9     9   \n",
      "45.00           12        12      12    12   12     12     12      12    12   \n",
      "45.50            2         2       2     2    2      2      2       2     2   \n",
      "46.00            3         3       3     3    3      3      3       3     3   \n",
      "47.00            9         9       9     9    9      9      9       9     9   \n",
      "48.00            9         9       9     9    9      9      9       9     9   \n",
      "49.00            6         6       6     6    6      6      6       6     6   \n",
      "50.00           10        10      10    10   10     10     10      10    10   \n",
      "51.00            7         7       7     7    7      7      7       7     7   \n",
      "52.00            6         6       6     6    6      6      6       6     6   \n",
      "53.00            1         1       1     1    1      1      1       1     1   \n",
      "54.00            8         8       8     8    8      8      8       8     8   \n",
      "55.00            2         2       2     2    2      2      2       2     2   \n",
      "55.50            1         1       1     1    1      1      1       1     1   \n",
      "56.00            4         4       4     4    4      4      4       4     4   \n",
      "57.00            2         2       2     2    2      2      2       2     2   \n",
      "58.00            5         5       5     5    5      5      5       5     5   \n",
      "59.00            2         2       2     2    2      2      2       2     2   \n",
      "60.00            4         4       4     4    4      4      4       4     4   \n",
      "61.00            3         3       3     3    3      3      3       3     3   \n",
      "62.00            4         4       4     4    4      4      4       4     4   \n",
      "63.00            2         2       2     2    2      2      2       2     2   \n",
      "64.00            2         2       2     2    2      2      2       2     2   \n",
      "65.00            3         3       3     3    3      3      3       3     3   \n",
      "66.00            1         1       1     1    1      1      1       1     1   \n",
      "70.00            2         2       2     2    2      2      2       2     2   \n",
      "70.50            1         1       1     1    1      1      1       1     1   \n",
      "71.00            2         2       2     2    2      2      2       2     2   \n",
      "74.00            1         1       1     1    1      1      1       1     1   \n",
      "80.00            1         1       1     1    1      1      1       1     1   \n",
      "\n",
      "       Cabin  Embarked  Relatives  \n",
      "Age                                \n",
      "0.42       0         1          1  \n",
      "0.67       0         1          1  \n",
      "0.75       0         2          2  \n",
      "0.83       0         2          2  \n",
      "0.92       1         1          1  \n",
      "1.00       1         7          7  \n",
      "2.00       3        10         10  \n",
      "3.00       1         6          6  \n",
      "4.00       3        10         10  \n",
      "5.00       0         4          4  \n",
      "6.00       1         3          3  \n",
      "7.00       0         3          3  \n",
      "8.00       0         4          4  \n",
      "9.00       0         8          8  \n",
      "10.00      0         2          2  \n",
      "11.00      1         4          4  \n",
      "12.00      0         1          1  \n",
      "13.00      0         2          2  \n",
      "14.00      1         6          6  \n",
      "14.50      0         1          1  \n",
      "15.00      1         5          5  \n",
      "16.00      3        17         17  \n",
      "17.00      3        13         13  \n",
      "18.00      4        26         26  \n",
      "19.00      6        25         25  \n",
      "20.00      0        15         15  \n",
      "20.50      0         1          1  \n",
      "21.00      3        24         24  \n",
      "22.00      3        27         27  \n",
      "23.00      4        15         15  \n",
      "...      ...       ...        ...  \n",
      "44.00      3         9          9  \n",
      "45.00      3        12         12  \n",
      "45.50      1         2          2  \n",
      "46.00      2         3          3  \n",
      "47.00      5         9          9  \n",
      "48.00      5         9          9  \n",
      "49.00      5         6          6  \n",
      "50.00      4        10         10  \n",
      "51.00      2         7          7  \n",
      "52.00      4         6          6  \n",
      "53.00      1         1          1  \n",
      "54.00      3         8          8  \n",
      "55.00      1         2          2  \n",
      "55.50      0         1          1  \n",
      "56.00      3         4          4  \n",
      "57.00      1         2          2  \n",
      "58.00      5         5          5  \n",
      "59.00      0         2          2  \n",
      "60.00      2         4          4  \n",
      "61.00      2         3          3  \n",
      "62.00      2         3          4  \n",
      "63.00      1         2          2  \n",
      "64.00      1         2          2  \n",
      "65.00      2         3          3  \n",
      "66.00      0         1          1  \n",
      "70.00      1         2          2  \n",
      "70.50      0         1          1  \n",
      "71.00      1         2          2  \n",
      "74.00      0         1          1  \n",
      "80.00      1         1          1  \n",
      "\n",
      "[88 rows x 12 columns]\n"
     ]
    }
   ],
   "source": [
    "#grouping by age\n",
    "passengers_by_age = titanic_df.groupby('Age')\n",
    "print passengers_by_age.count()"
   ]
  },
  {
   "cell_type": "code",
   "execution_count": null,
   "metadata": {
    "collapsed": true
   },
   "outputs": [],
   "source": []
  }
 ],
 "metadata": {
  "kernelspec": {
   "display_name": "Python [Root]",
   "language": "python",
   "name": "Python [Root]"
  },
  "language_info": {
   "codemirror_mode": {
    "name": "ipython",
    "version": 2
   },
   "file_extension": ".py",
   "mimetype": "text/x-python",
   "name": "python",
   "nbconvert_exporter": "python",
   "pygments_lexer": "ipython2",
   "version": "2.7.12"
  }
 },
 "nbformat": 4,
 "nbformat_minor": 0
}
